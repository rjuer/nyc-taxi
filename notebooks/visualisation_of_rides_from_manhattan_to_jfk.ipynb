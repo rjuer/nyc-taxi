{
 "cells": [
  {
   "cell_type": "markdown",
   "metadata": {},
   "source": [
    "# Briefing"
   ]
  },
  {
   "cell_type": "markdown",
   "metadata": {},
   "source": [
    "This notebook visualises all NYC taxi rides from Manhattan to JFK International Airport between January 2009 and December 2017. It provides a controller to distinguish the rides between different precipitation levels."
   ]
  },
  {
   "cell_type": "markdown",
   "metadata": {
    "ExecuteTime": {
     "end_time": "2018-11-18T18:00:15.689298Z",
     "start_time": "2018-11-18T18:00:15.577090Z"
    }
   },
   "source": [
    "# Setup: Imports, Configuration and Loading Data"
   ]
  },
  {
   "cell_type": "code",
   "execution_count": 1,
   "metadata": {
    "ExecuteTime": {
     "end_time": "2018-11-22T05:03:49.848031Z",
     "start_time": "2018-11-22T05:03:49.278185Z"
    }
   },
   "outputs": [],
   "source": [
    "import os\n",
    "import random\n",
    "import sys\n",
    "\n",
    "import numpy as np\n",
    "import pandas as pd\n",
    "from pathlib import Path\n",
    "\n",
    "sys.path.append(os.path.abspath(os.path.join('..')))\n",
    "from src.util import data_loader\n",
    "\n",
    "from IPython.core.interactiveshell import InteractiveShell\n",
    "InteractiveShell.ast_node_interactivity = 'all'\n",
    "\n",
    "from IPython.display import set_matplotlib_formats\n",
    "set_matplotlib_formats('retina')\n",
    "\n",
    "%matplotlib inline\n",
    "%config InlineBackend.figure_format = 'retina'\n",
    "\n",
    "random.seed(42)"
   ]
  },
  {
   "cell_type": "markdown",
   "metadata": {},
   "source": [
    "# Merge Filtered Taxi Ride Files"
   ]
  },
  {
   "cell_type": "code",
   "execution_count": null,
   "metadata": {},
   "outputs": [],
   "source": [
    "from collections import OrderedDict\n",
    "import gc"
   ]
  },
  {
   "cell_type": "markdown",
   "metadata": {},
   "source": [
    "## Option 1: Load and Merge Individual Files (necessary the first time this is used)"
   ]
  },
  {
   "cell_type": "code",
   "execution_count": 2,
   "metadata": {
    "ExecuteTime": {
     "end_time": "2018-11-20T06:23:20.310878Z",
     "start_time": "2018-11-20T06:23:20.301672Z"
    }
   },
   "outputs": [],
   "source": [
    "schemas = data_loader.load_schema()\n",
    "file_names = schemas.keys()\n",
    "available_file_names = [file_name for file_name in file_names if (Path().home() / 'data/nyc-taxi/results/filtered_rides' / file_name).exists()]"
   ]
  },
  {
   "cell_type": "code",
   "execution_count": 3,
   "metadata": {
    "ExecuteTime": {
     "end_time": "2018-11-20T06:23:52.149728Z",
     "start_time": "2018-11-20T06:23:32.426449Z"
    }
   },
   "outputs": [],
   "source": [
    "filtered_rides = []\n",
    "\n",
    "for file_name in available_file_names:\n",
    "    location_datetime_colnames = data_loader.get_location_datetime_columns(file_name=file_name)\n",
    "    \n",
    "    all_cols = [location_datetime_colnames.pickup_location_id_colname, \n",
    "                location_datetime_colnames.pickup_lon_colname,\n",
    "                location_datetime_colnames.pickup_lat_colname,\n",
    "                location_datetime_colnames.pickup_datetime_colname,\n",
    "                location_datetime_colnames.dropoff_location_id_colname,\n",
    "                location_datetime_colnames.dropoff_lon_colname,\n",
    "                location_datetime_colnames.dropoff_lat_colname,\n",
    "                location_datetime_colnames.dropoff_datetime_colname]\n",
    "    \n",
    "    value_cols = [col for col in all_cols if col != 'nan']\n",
    "    \n",
    "    name_mapping = OrderedDict()\n",
    "    name_mapping[location_datetime_colnames.pickup_location_id_colname] = 'pickup_location_id'\n",
    "    name_mapping[location_datetime_colnames.pickup_lon_colname] = 'pickup_lon'\n",
    "    name_mapping[location_datetime_colnames.pickup_lat_colname] = 'pickup_lat'\n",
    "    name_mapping[location_datetime_colnames.pickup_datetime_colname] = 'pickup_datetime'\n",
    "    name_mapping[location_datetime_colnames.dropoff_location_id_colname] = 'dropoff_location_id'\n",
    "    name_mapping[location_datetime_colnames.dropoff_lon_colname] = 'dropoff_lon'\n",
    "    name_mapping[location_datetime_colnames.dropoff_lat_colname] = 'dropoff_lat'\n",
    "    name_mapping[location_datetime_colnames.dropoff_datetime_colname] = 'dropoff_datetime'\n",
    "    \n",
    "    rides = pd.read_csv(str(Path().home() / 'data/nyc-taxi/results/filtered_rides' / file_name),\n",
    "                        skip_blank_lines=True,\n",
    "                        low_memory=False,\n",
    "                        usecols=value_cols)\n",
    "    \n",
    "    value_cols_normalised_names = [name_mapping[col] for col in value_cols]\n",
    "    \n",
    "    rides.rename(columns=dict(zip(value_cols, value_cols_normalised_names)), inplace=True)\n",
    "    \n",
    "    desired_names = ['pickup_location_id', 'pickup_lon', 'pickup_lat', 'pickup_datetime', \n",
    "                     'dropoff_location_id', 'dropoff_lon', 'dropoff_lat', 'dropoff_datetime']\n",
    "    \n",
    "    nan_cols = [col for col in desired_names if col not in value_cols_normalised_names]\n",
    "    \n",
    "    for col in nan_cols:\n",
    "        rides[col] = np.NaN\n",
    "    \n",
    "    rides = rides[desired_names]\n",
    "    \n",
    "    filtered_rides.append(rides)"
   ]
  },
  {
   "cell_type": "code",
   "execution_count": 4,
   "metadata": {
    "ExecuteTime": {
     "end_time": "2018-11-20T06:50:18.158487Z",
     "start_time": "2018-11-20T06:50:16.466525Z"
    }
   },
   "outputs": [
    {
     "data": {
      "text/plain": [
       "11"
      ]
     },
     "execution_count": 4,
     "metadata": {},
     "output_type": "execute_result"
    }
   ],
   "source": [
    "rides = pd.concat(filtered_rides)\n",
    "\n",
    "del filtered_rides\n",
    "gc.collect()"
   ]
  },
  {
   "cell_type": "code",
   "execution_count": 5,
   "metadata": {
    "ExecuteTime": {
     "end_time": "2018-11-20T06:50:22.253389Z",
     "start_time": "2018-11-20T06:50:22.250660Z"
    }
   },
   "outputs": [
    {
     "data": {
      "text/plain": [
       "(9747521, 8)"
      ]
     },
     "execution_count": 5,
     "metadata": {},
     "output_type": "execute_result"
    }
   ],
   "source": [
    "rides.shape"
   ]
  },
  {
   "cell_type": "code",
   "execution_count": 43,
   "metadata": {
    "ExecuteTime": {
     "end_time": "2018-11-20T07:04:17.270387Z",
     "start_time": "2018-11-20T07:04:17.260825Z"
    }
   },
   "outputs": [
    {
     "data": {
      "text/html": [
       "<div>\n",
       "<style scoped>\n",
       "    .dataframe tbody tr th:only-of-type {\n",
       "        vertical-align: middle;\n",
       "    }\n",
       "\n",
       "    .dataframe tbody tr th {\n",
       "        vertical-align: top;\n",
       "    }\n",
       "\n",
       "    .dataframe thead th {\n",
       "        text-align: right;\n",
       "    }\n",
       "</style>\n",
       "<table border=\"1\" class=\"dataframe\">\n",
       "  <thead>\n",
       "    <tr style=\"text-align: right;\">\n",
       "      <th></th>\n",
       "      <th>pickup_location_id</th>\n",
       "      <th>pickup_lon</th>\n",
       "      <th>pickup_lat</th>\n",
       "      <th>pickup_datetime</th>\n",
       "      <th>dropoff_location_id</th>\n",
       "      <th>dropoff_lon</th>\n",
       "      <th>dropoff_lat</th>\n",
       "      <th>dropoff_datetime</th>\n",
       "    </tr>\n",
       "  </thead>\n",
       "  <tbody>\n",
       "    <tr>\n",
       "      <th>0</th>\n",
       "      <td>230.0</td>\n",
       "      <td>NaN</td>\n",
       "      <td>NaN</td>\n",
       "      <td>2017-03-01 06:30:00</td>\n",
       "      <td>132.0</td>\n",
       "      <td>NaN</td>\n",
       "      <td>NaN</td>\n",
       "      <td>NaN</td>\n",
       "    </tr>\n",
       "    <tr>\n",
       "      <th>1</th>\n",
       "      <td>234.0</td>\n",
       "      <td>NaN</td>\n",
       "      <td>NaN</td>\n",
       "      <td>2017-03-08 08:45:00</td>\n",
       "      <td>132.0</td>\n",
       "      <td>NaN</td>\n",
       "      <td>NaN</td>\n",
       "      <td>NaN</td>\n",
       "    </tr>\n",
       "    <tr>\n",
       "      <th>2</th>\n",
       "      <td>234.0</td>\n",
       "      <td>NaN</td>\n",
       "      <td>NaN</td>\n",
       "      <td>2017-03-08 09:00:00</td>\n",
       "      <td>132.0</td>\n",
       "      <td>NaN</td>\n",
       "      <td>NaN</td>\n",
       "      <td>NaN</td>\n",
       "    </tr>\n",
       "    <tr>\n",
       "      <th>3</th>\n",
       "      <td>161.0</td>\n",
       "      <td>NaN</td>\n",
       "      <td>NaN</td>\n",
       "      <td>2017-03-08 17:15:00</td>\n",
       "      <td>132.0</td>\n",
       "      <td>NaN</td>\n",
       "      <td>NaN</td>\n",
       "      <td>NaN</td>\n",
       "    </tr>\n",
       "    <tr>\n",
       "      <th>4</th>\n",
       "      <td>158.0</td>\n",
       "      <td>NaN</td>\n",
       "      <td>NaN</td>\n",
       "      <td>2017-03-09 17:30:00</td>\n",
       "      <td>132.0</td>\n",
       "      <td>NaN</td>\n",
       "      <td>NaN</td>\n",
       "      <td>NaN</td>\n",
       "    </tr>\n",
       "  </tbody>\n",
       "</table>\n",
       "</div>"
      ],
      "text/plain": [
       "   pickup_location_id  pickup_lon  pickup_lat      pickup_datetime  \\\n",
       "0               230.0         NaN         NaN  2017-03-01 06:30:00   \n",
       "1               234.0         NaN         NaN  2017-03-08 08:45:00   \n",
       "2               234.0         NaN         NaN  2017-03-08 09:00:00   \n",
       "3               161.0         NaN         NaN  2017-03-08 17:15:00   \n",
       "4               158.0         NaN         NaN  2017-03-09 17:30:00   \n",
       "\n",
       "   dropoff_location_id  dropoff_lon  dropoff_lat dropoff_datetime  \n",
       "0                132.0          NaN          NaN              NaN  \n",
       "1                132.0          NaN          NaN              NaN  \n",
       "2                132.0          NaN          NaN              NaN  \n",
       "3                132.0          NaN          NaN              NaN  \n",
       "4                132.0          NaN          NaN              NaN  "
      ]
     },
     "execution_count": 43,
     "metadata": {},
     "output_type": "execute_result"
    }
   ],
   "source": [
    "rides.head()"
   ]
  },
  {
   "cell_type": "code",
   "execution_count": 45,
   "metadata": {
    "ExecuteTime": {
     "end_time": "2018-11-20T07:06:02.752899Z",
     "start_time": "2018-11-20T07:04:51.576836Z"
    }
   },
   "outputs": [],
   "source": [
    "rides.to_csv(str(Path().home() / 'data/nyc-taxi/results/filtered_rides.csv'), index=False)"
   ]
  },
  {
   "cell_type": "markdown",
   "metadata": {},
   "source": [
    "## Option 2: Load Merged Rides in One File"
   ]
  },
  {
   "cell_type": "code",
   "execution_count": 14,
   "metadata": {
    "ExecuteTime": {
     "end_time": "2018-11-21T17:08:43.576877Z",
     "start_time": "2018-11-21T17:08:30.387618Z"
    }
   },
   "outputs": [
    {
     "data": {
      "text/plain": [
       "(9747521, 8)"
      ]
     },
     "execution_count": 14,
     "metadata": {},
     "output_type": "execute_result"
    },
    {
     "data": {
      "text/html": [
       "<div>\n",
       "<style scoped>\n",
       "    .dataframe tbody tr th:only-of-type {\n",
       "        vertical-align: middle;\n",
       "    }\n",
       "\n",
       "    .dataframe tbody tr th {\n",
       "        vertical-align: top;\n",
       "    }\n",
       "\n",
       "    .dataframe thead th {\n",
       "        text-align: right;\n",
       "    }\n",
       "</style>\n",
       "<table border=\"1\" class=\"dataframe\">\n",
       "  <thead>\n",
       "    <tr style=\"text-align: right;\">\n",
       "      <th></th>\n",
       "      <th>pickup_location_id</th>\n",
       "      <th>pickup_lon</th>\n",
       "      <th>pickup_lat</th>\n",
       "      <th>pickup_datetime</th>\n",
       "      <th>dropoff_location_id</th>\n",
       "      <th>dropoff_lon</th>\n",
       "      <th>dropoff_lat</th>\n",
       "      <th>dropoff_datetime</th>\n",
       "    </tr>\n",
       "  </thead>\n",
       "  <tbody>\n",
       "    <tr>\n",
       "      <th>0</th>\n",
       "      <td>230.0</td>\n",
       "      <td>NaN</td>\n",
       "      <td>NaN</td>\n",
       "      <td>2017-03-01 06:30:00</td>\n",
       "      <td>132.0</td>\n",
       "      <td>NaN</td>\n",
       "      <td>NaN</td>\n",
       "      <td>NaN</td>\n",
       "    </tr>\n",
       "    <tr>\n",
       "      <th>1</th>\n",
       "      <td>234.0</td>\n",
       "      <td>NaN</td>\n",
       "      <td>NaN</td>\n",
       "      <td>2017-03-08 08:45:00</td>\n",
       "      <td>132.0</td>\n",
       "      <td>NaN</td>\n",
       "      <td>NaN</td>\n",
       "      <td>NaN</td>\n",
       "    </tr>\n",
       "    <tr>\n",
       "      <th>2</th>\n",
       "      <td>234.0</td>\n",
       "      <td>NaN</td>\n",
       "      <td>NaN</td>\n",
       "      <td>2017-03-08 09:00:00</td>\n",
       "      <td>132.0</td>\n",
       "      <td>NaN</td>\n",
       "      <td>NaN</td>\n",
       "      <td>NaN</td>\n",
       "    </tr>\n",
       "    <tr>\n",
       "      <th>3</th>\n",
       "      <td>161.0</td>\n",
       "      <td>NaN</td>\n",
       "      <td>NaN</td>\n",
       "      <td>2017-03-08 17:15:00</td>\n",
       "      <td>132.0</td>\n",
       "      <td>NaN</td>\n",
       "      <td>NaN</td>\n",
       "      <td>NaN</td>\n",
       "    </tr>\n",
       "    <tr>\n",
       "      <th>4</th>\n",
       "      <td>158.0</td>\n",
       "      <td>NaN</td>\n",
       "      <td>NaN</td>\n",
       "      <td>2017-03-09 17:30:00</td>\n",
       "      <td>132.0</td>\n",
       "      <td>NaN</td>\n",
       "      <td>NaN</td>\n",
       "      <td>NaN</td>\n",
       "    </tr>\n",
       "  </tbody>\n",
       "</table>\n",
       "</div>"
      ],
      "text/plain": [
       "   pickup_location_id  pickup_lon  pickup_lat      pickup_datetime  \\\n",
       "0               230.0         NaN         NaN  2017-03-01 06:30:00   \n",
       "1               234.0         NaN         NaN  2017-03-08 08:45:00   \n",
       "2               234.0         NaN         NaN  2017-03-08 09:00:00   \n",
       "3               161.0         NaN         NaN  2017-03-08 17:15:00   \n",
       "4               158.0         NaN         NaN  2017-03-09 17:30:00   \n",
       "\n",
       "   dropoff_location_id  dropoff_lon  dropoff_lat dropoff_datetime  \n",
       "0                132.0          NaN          NaN              NaN  \n",
       "1                132.0          NaN          NaN              NaN  \n",
       "2                132.0          NaN          NaN              NaN  \n",
       "3                132.0          NaN          NaN              NaN  \n",
       "4                132.0          NaN          NaN              NaN  "
      ]
     },
     "execution_count": 14,
     "metadata": {},
     "output_type": "execute_result"
    }
   ],
   "source": [
    "rides = pd.read_csv(str(Path().home() / 'data/nyc-taxi/results/filtered_rides.csv'))\n",
    "rides.shape\n",
    "rides.head()"
   ]
  },
  {
   "cell_type": "markdown",
   "metadata": {},
   "source": [
    "# Enrich Data Frame"
   ]
  },
  {
   "cell_type": "code",
   "execution_count": 15,
   "metadata": {
    "ExecuteTime": {
     "end_time": "2018-11-21T17:08:45.279447Z",
     "start_time": "2018-11-21T17:08:45.277048Z"
    }
   },
   "outputs": [],
   "source": [
    "import geopandas as gpd\n",
    "from shapely.geometry import Polygon\n",
    "from shapely.geometry import Point\n",
    "from shapely.ops import cascaded_union"
   ]
  },
  {
   "cell_type": "markdown",
   "metadata": {},
   "source": [
    "## Convert Datetimes and Use Date as Index for Join"
   ]
  },
  {
   "cell_type": "code",
   "execution_count": 16,
   "metadata": {
    "ExecuteTime": {
     "end_time": "2018-11-21T17:08:52.972090Z",
     "start_time": "2018-11-21T17:08:47.301430Z"
    }
   },
   "outputs": [],
   "source": [
    "rides['pickup_datetime'] = pd.to_datetime(rides['pickup_datetime'])\n",
    "rides['dropoff_datetime'] = pd.to_datetime(rides['dropoff_datetime'])\n",
    "\n",
    "rides['pickup_date'] = rides['pickup_datetime'].dt.date\n",
    "\n",
    "rides.set_index('pickup_date', inplace=True)"
   ]
  },
  {
   "cell_type": "markdown",
   "metadata": {},
   "source": [
    "## Load Precipitation"
   ]
  },
  {
   "cell_type": "code",
   "execution_count": 17,
   "metadata": {
    "ExecuteTime": {
     "end_time": "2018-11-21T17:08:55.039203Z",
     "start_time": "2018-11-21T17:08:55.015036Z"
    }
   },
   "outputs": [
    {
     "data": {
      "text/plain": [
       "(3287, 1)"
      ]
     },
     "execution_count": 17,
     "metadata": {},
     "output_type": "execute_result"
    },
    {
     "data": {
      "text/html": [
       "<div>\n",
       "<style scoped>\n",
       "    .dataframe tbody tr th:only-of-type {\n",
       "        vertical-align: middle;\n",
       "    }\n",
       "\n",
       "    .dataframe tbody tr th {\n",
       "        vertical-align: top;\n",
       "    }\n",
       "\n",
       "    .dataframe thead th {\n",
       "        text-align: right;\n",
       "    }\n",
       "</style>\n",
       "<table border=\"1\" class=\"dataframe\">\n",
       "  <thead>\n",
       "    <tr style=\"text-align: right;\">\n",
       "      <th></th>\n",
       "      <th>PRCP</th>\n",
       "    </tr>\n",
       "    <tr>\n",
       "      <th>DATE</th>\n",
       "      <th></th>\n",
       "    </tr>\n",
       "  </thead>\n",
       "  <tbody>\n",
       "    <tr>\n",
       "      <th>2009-01-01</th>\n",
       "      <td>0.0</td>\n",
       "    </tr>\n",
       "    <tr>\n",
       "      <th>2009-01-02</th>\n",
       "      <td>0.0</td>\n",
       "    </tr>\n",
       "    <tr>\n",
       "      <th>2009-01-03</th>\n",
       "      <td>0.0</td>\n",
       "    </tr>\n",
       "    <tr>\n",
       "      <th>2009-01-04</th>\n",
       "      <td>0.0</td>\n",
       "    </tr>\n",
       "    <tr>\n",
       "      <th>2009-01-05</th>\n",
       "      <td>0.0</td>\n",
       "    </tr>\n",
       "  </tbody>\n",
       "</table>\n",
       "</div>"
      ],
      "text/plain": [
       "            PRCP\n",
       "DATE            \n",
       "2009-01-01   0.0\n",
       "2009-01-02   0.0\n",
       "2009-01-03   0.0\n",
       "2009-01-04   0.0\n",
       "2009-01-05   0.0"
      ]
     },
     "execution_count": 17,
     "metadata": {},
     "output_type": "execute_result"
    }
   ],
   "source": [
    "precipitation = pd.read_csv(str(Path().home() / 'repos/nyc-taxi/resources/weather/NOAA_Central_Park_data.csv'), \n",
    "                            index_col='DATE',\n",
    "                            usecols=['DATE', 'PRCP'])\n",
    "precipitation.index = pd.to_datetime(precipitation.index)\n",
    "precipitation.shape\n",
    "precipitation.head()"
   ]
  },
  {
   "cell_type": "markdown",
   "metadata": {},
   "source": [
    "## Join Rides and Precipitation"
   ]
  },
  {
   "cell_type": "code",
   "execution_count": 18,
   "metadata": {
    "ExecuteTime": {
     "end_time": "2018-11-21T17:09:04.338046Z",
     "start_time": "2018-11-21T17:09:01.775767Z"
    }
   },
   "outputs": [
    {
     "data": {
      "text/plain": [
       "(9747521, 9)"
      ]
     },
     "execution_count": 18,
     "metadata": {},
     "output_type": "execute_result"
    },
    {
     "data": {
      "text/html": [
       "<div>\n",
       "<style scoped>\n",
       "    .dataframe tbody tr th:only-of-type {\n",
       "        vertical-align: middle;\n",
       "    }\n",
       "\n",
       "    .dataframe tbody tr th {\n",
       "        vertical-align: top;\n",
       "    }\n",
       "\n",
       "    .dataframe thead th {\n",
       "        text-align: right;\n",
       "    }\n",
       "</style>\n",
       "<table border=\"1\" class=\"dataframe\">\n",
       "  <thead>\n",
       "    <tr style=\"text-align: right;\">\n",
       "      <th></th>\n",
       "      <th>pickup_location_id</th>\n",
       "      <th>pickup_lon</th>\n",
       "      <th>pickup_lat</th>\n",
       "      <th>pickup_datetime</th>\n",
       "      <th>dropoff_location_id</th>\n",
       "      <th>dropoff_lon</th>\n",
       "      <th>dropoff_lat</th>\n",
       "      <th>dropoff_datetime</th>\n",
       "      <th>precipitation</th>\n",
       "    </tr>\n",
       "  </thead>\n",
       "  <tbody>\n",
       "    <tr>\n",
       "      <th>2009-01-01</th>\n",
       "      <td>NaN</td>\n",
       "      <td>-73.967987</td>\n",
       "      <td>40.752267</td>\n",
       "      <td>2009-01-01 14:50:00</td>\n",
       "      <td>NaN</td>\n",
       "      <td>-73.782963</td>\n",
       "      <td>40.643958</td>\n",
       "      <td>2009-01-01 15:18:00</td>\n",
       "      <td>0.0</td>\n",
       "    </tr>\n",
       "    <tr>\n",
       "      <th>2009-01-01</th>\n",
       "      <td>NaN</td>\n",
       "      <td>-73.992083</td>\n",
       "      <td>40.749610</td>\n",
       "      <td>2009-01-01 15:44:00</td>\n",
       "      <td>NaN</td>\n",
       "      <td>-73.789692</td>\n",
       "      <td>40.647035</td>\n",
       "      <td>2009-01-01 16:13:00</td>\n",
       "      <td>0.0</td>\n",
       "    </tr>\n",
       "    <tr>\n",
       "      <th>2009-01-01</th>\n",
       "      <td>NaN</td>\n",
       "      <td>-73.984115</td>\n",
       "      <td>40.759037</td>\n",
       "      <td>2009-01-01 12:37:00</td>\n",
       "      <td>NaN</td>\n",
       "      <td>-73.790738</td>\n",
       "      <td>40.645358</td>\n",
       "      <td>2009-01-01 13:15:00</td>\n",
       "      <td>0.0</td>\n",
       "    </tr>\n",
       "    <tr>\n",
       "      <th>2009-01-01</th>\n",
       "      <td>NaN</td>\n",
       "      <td>-73.953513</td>\n",
       "      <td>40.767788</td>\n",
       "      <td>2009-01-01 17:27:00</td>\n",
       "      <td>NaN</td>\n",
       "      <td>-73.776425</td>\n",
       "      <td>40.645150</td>\n",
       "      <td>2009-01-01 17:55:00</td>\n",
       "      <td>0.0</td>\n",
       "    </tr>\n",
       "    <tr>\n",
       "      <th>2009-01-01</th>\n",
       "      <td>NaN</td>\n",
       "      <td>-73.992892</td>\n",
       "      <td>40.730655</td>\n",
       "      <td>2009-01-01 18:26:00</td>\n",
       "      <td>NaN</td>\n",
       "      <td>-73.776383</td>\n",
       "      <td>40.645273</td>\n",
       "      <td>2009-01-01 18:53:00</td>\n",
       "      <td>0.0</td>\n",
       "    </tr>\n",
       "  </tbody>\n",
       "</table>\n",
       "</div>"
      ],
      "text/plain": [
       "            pickup_location_id  pickup_lon  pickup_lat     pickup_datetime  \\\n",
       "2009-01-01                 NaN  -73.967987   40.752267 2009-01-01 14:50:00   \n",
       "2009-01-01                 NaN  -73.992083   40.749610 2009-01-01 15:44:00   \n",
       "2009-01-01                 NaN  -73.984115   40.759037 2009-01-01 12:37:00   \n",
       "2009-01-01                 NaN  -73.953513   40.767788 2009-01-01 17:27:00   \n",
       "2009-01-01                 NaN  -73.992892   40.730655 2009-01-01 18:26:00   \n",
       "\n",
       "            dropoff_location_id  dropoff_lon  dropoff_lat    dropoff_datetime  \\\n",
       "2009-01-01                  NaN   -73.782963    40.643958 2009-01-01 15:18:00   \n",
       "2009-01-01                  NaN   -73.789692    40.647035 2009-01-01 16:13:00   \n",
       "2009-01-01                  NaN   -73.790738    40.645358 2009-01-01 13:15:00   \n",
       "2009-01-01                  NaN   -73.776425    40.645150 2009-01-01 17:55:00   \n",
       "2009-01-01                  NaN   -73.776383    40.645273 2009-01-01 18:53:00   \n",
       "\n",
       "            precipitation  \n",
       "2009-01-01            0.0  \n",
       "2009-01-01            0.0  \n",
       "2009-01-01            0.0  \n",
       "2009-01-01            0.0  \n",
       "2009-01-01            0.0  "
      ]
     },
     "execution_count": 18,
     "metadata": {},
     "output_type": "execute_result"
    }
   ],
   "source": [
    "rides = rides.join(precipitation, how='left')\n",
    "rides.rename(columns={'PRCP': 'precipitation'}, inplace=True)\n",
    "rides.shape\n",
    "rides.head()"
   ]
  },
  {
   "cell_type": "markdown",
   "metadata": {},
   "source": [
    "## Generate Points for Location IDs (Strategy: Sample Random Point in Polygon)"
   ]
  },
  {
   "cell_type": "code",
   "execution_count": 23,
   "metadata": {
    "ExecuteTime": {
     "end_time": "2018-11-21T17:09:54.160501Z",
     "start_time": "2018-11-21T17:09:53.918208Z"
    }
   },
   "outputs": [
    {
     "name": "stderr",
     "output_type": "stream",
     "text": [
      "INFO:Fiona:Failed to auto identify EPSG: 7\n"
     ]
    }
   ],
   "source": [
    "taxi_zones = gpd.read_file(str(Path().home() / 'repos/nyc-taxi/resources/taxi_info/taxi_zones/taxi_zones.shp')).to_crs({'init': 'epsg:4326'})\n",
    "manhattan_polygons = list(taxi_zones[taxi_zones['borough'] == 'Manhattan']['geometry'].values)"
   ]
  },
  {
   "cell_type": "code",
   "execution_count": 24,
   "metadata": {
    "ExecuteTime": {
     "end_time": "2018-11-21T17:09:54.954360Z",
     "start_time": "2018-11-21T17:09:54.950690Z"
    }
   },
   "outputs": [],
   "source": [
    "def make_location_polygon_mapping(taxi_zones):\n",
    "    \"\"\"Creates a dictionary mapping location IDs to polygons\n",
    "    \n",
    "    :param taxi_zones: NYC taxi zones with location ID and geometry\n",
    "    :returns: Dictionary mapping location IDs to polygons\n",
    "    \"\"\"\n",
    "    location_ids = taxi_zones['LocationID'].unique()\n",
    "    \n",
    "    loc_polygon_mapping = dict()\n",
    "    \n",
    "    for location_id in location_ids:\n",
    "        polygons = taxi_zones['geometry'][taxi_zones['LocationID'] == location_id].values\n",
    "        \n",
    "        loc_polygon_mapping[location_id] = gpd.GeoSeries(cascaded_union(polygons))[0]\n",
    "    \n",
    "    return loc_polygon_mapping"
   ]
  },
  {
   "cell_type": "code",
   "execution_count": 25,
   "metadata": {
    "ExecuteTime": {
     "end_time": "2018-11-21T17:09:55.109224Z",
     "start_time": "2018-11-21T17:09:55.105238Z"
    }
   },
   "outputs": [],
   "source": [
    "def sample_random_point_in_polygon(polygon):\n",
    "    \"\"\"Samples one random point from inside the given polygon\n",
    "    \n",
    "    :param polygon: Polygon to sample a point in\n",
    "    :returns: Random point in polygon\n",
    "    \"\"\"\n",
    "    x_min, y_min, x_max, y_max = polygon.bounds\n",
    "    \n",
    "    warn_counter = 0\n",
    "    \n",
    "    while True:\n",
    "        warn_counter += 1\n",
    "        point = Point(random.uniform(x_min, x_max), random.uniform(y_min, y_max))\n",
    "        \n",
    "        if polygon.contains(point):\n",
    "            return pd.Series([point.x, point.y])\n",
    "        \n",
    "        if warn_counter % 1000 == 0:\n",
    "            print(f'{warn_counter} iterations without point in polygon...')"
   ]
  },
  {
   "cell_type": "code",
   "execution_count": 26,
   "metadata": {
    "ExecuteTime": {
     "end_time": "2018-11-21T17:10:02.538544Z",
     "start_time": "2018-11-21T17:10:02.534835Z"
    }
   },
   "outputs": [],
   "source": [
    "def transform_loc_id(row, stop_type):\n",
    "    loc_id = row[f'{stop_type}_location_id']\n",
    "    \n",
    "    if np.isnan(loc_id):\n",
    "        return pd.Series([row[f'{stop_type}_lon'], row[f'{stop_type}_lat']])\n",
    "    else:\n",
    "        if loc_id not in location_polygon_mapping.keys():\n",
    "            return pd.Series([float('nan'), float('nan')])\n",
    "        else:\n",
    "            return sample_random_point_in_polygon(polygon=location_polygon_mapping[loc_id])"
   ]
  },
  {
   "cell_type": "code",
   "execution_count": 27,
   "metadata": {
    "ExecuteTime": {
     "end_time": "2018-11-21T17:10:03.232490Z",
     "start_time": "2018-11-21T17:10:02.976034Z"
    }
   },
   "outputs": [],
   "source": [
    "location_polygon_mapping = make_location_polygon_mapping(taxi_zones=taxi_zones)"
   ]
  },
  {
   "cell_type": "code",
   "execution_count": 28,
   "metadata": {
    "ExecuteTime": {
     "end_time": "2018-11-21T17:10:03.633770Z",
     "start_time": "2018-11-21T17:10:03.631501Z"
    }
   },
   "outputs": [],
   "source": [
    "rides.reset_index(drop=True, inplace=True)"
   ]
  },
  {
   "cell_type": "code",
   "execution_count": null,
   "metadata": {
    "ExecuteTime": {
     "end_time": "2018-11-20T22:19:26.782006Z",
     "start_time": "2018-11-20T22:07:21.936Z"
    }
   },
   "outputs": [],
   "source": [
    "rides[['pickup_lon', 'pickup_lat']] = rides.apply(lambda x: transform_loc_id(x, 'pickup'), axis=1)\n",
    "rides[['dropoff_lon', 'dropoff_lat']] = rides.apply(lambda x: transform_loc_id(x, 'dropoff'), axis=1)"
   ]
  },
  {
   "cell_type": "code",
   "execution_count": null,
   "metadata": {
    "ExecuteTime": {
     "end_time": "2018-11-20T22:19:26.782803Z",
     "start_time": "2018-11-20T22:07:30.088Z"
    }
   },
   "outputs": [],
   "source": [
    "rides.shape\n",
    "rides.head()"
   ]
  },
  {
   "cell_type": "code",
   "execution_count": null,
   "metadata": {
    "ExecuteTime": {
     "end_time": "2018-11-20T22:19:26.783538Z",
     "start_time": "2018-11-20T22:07:30.586Z"
    }
   },
   "outputs": [],
   "source": [
    "rides.to_csv(str(Path().home() / 'data/nyc-taxi/results/filtered_rides_with_prcp.csv'), index=False)"
   ]
  },
  {
   "cell_type": "markdown",
   "metadata": {},
   "source": [
    "# Prepare Visualisation (Mercator Projection)"
   ]
  },
  {
   "cell_type": "code",
   "execution_count": 4,
   "metadata": {
    "ExecuteTime": {
     "end_time": "2018-11-21T19:03:14.655098Z",
     "start_time": "2018-11-21T19:03:14.653074Z"
    }
   },
   "outputs": [],
   "source": [
    "import math\n",
    "\n",
    "from pyproj import Proj\n",
    "from pyproj import transform"
   ]
  },
  {
   "cell_type": "code",
   "execution_count": 3,
   "metadata": {
    "ExecuteTime": {
     "end_time": "2018-11-21T19:01:03.066298Z",
     "start_time": "2018-11-21T19:00:48.572192Z"
    }
   },
   "outputs": [
    {
     "data": {
      "text/plain": [
       "(9747514, 9)"
      ]
     },
     "execution_count": 3,
     "metadata": {},
     "output_type": "execute_result"
    },
    {
     "data": {
      "text/html": [
       "<div>\n",
       "<style scoped>\n",
       "    .dataframe tbody tr th:only-of-type {\n",
       "        vertical-align: middle;\n",
       "    }\n",
       "\n",
       "    .dataframe tbody tr th {\n",
       "        vertical-align: top;\n",
       "    }\n",
       "\n",
       "    .dataframe thead th {\n",
       "        text-align: right;\n",
       "    }\n",
       "</style>\n",
       "<table border=\"1\" class=\"dataframe\">\n",
       "  <thead>\n",
       "    <tr style=\"text-align: right;\">\n",
       "      <th></th>\n",
       "      <th>pickup_location_id</th>\n",
       "      <th>pickup_lon</th>\n",
       "      <th>pickup_lat</th>\n",
       "      <th>pickup_datetime</th>\n",
       "      <th>dropoff_location_id</th>\n",
       "      <th>dropoff_lon</th>\n",
       "      <th>dropoff_lat</th>\n",
       "      <th>dropoff_datetime</th>\n",
       "      <th>precipitation</th>\n",
       "    </tr>\n",
       "  </thead>\n",
       "  <tbody>\n",
       "    <tr>\n",
       "      <th>0</th>\n",
       "      <td>NaN</td>\n",
       "      <td>-73.967987</td>\n",
       "      <td>40.752267</td>\n",
       "      <td>2009-01-01 14:50:00</td>\n",
       "      <td>NaN</td>\n",
       "      <td>-73.782963</td>\n",
       "      <td>40.643958</td>\n",
       "      <td>2009-01-01 15:18:00</td>\n",
       "      <td>0.0</td>\n",
       "    </tr>\n",
       "    <tr>\n",
       "      <th>1</th>\n",
       "      <td>NaN</td>\n",
       "      <td>-73.992083</td>\n",
       "      <td>40.749610</td>\n",
       "      <td>2009-01-01 15:44:00</td>\n",
       "      <td>NaN</td>\n",
       "      <td>-73.789692</td>\n",
       "      <td>40.647035</td>\n",
       "      <td>2009-01-01 16:13:00</td>\n",
       "      <td>0.0</td>\n",
       "    </tr>\n",
       "    <tr>\n",
       "      <th>2</th>\n",
       "      <td>NaN</td>\n",
       "      <td>-73.984115</td>\n",
       "      <td>40.759037</td>\n",
       "      <td>2009-01-01 12:37:00</td>\n",
       "      <td>NaN</td>\n",
       "      <td>-73.790738</td>\n",
       "      <td>40.645358</td>\n",
       "      <td>2009-01-01 13:15:00</td>\n",
       "      <td>0.0</td>\n",
       "    </tr>\n",
       "    <tr>\n",
       "      <th>3</th>\n",
       "      <td>NaN</td>\n",
       "      <td>-73.953513</td>\n",
       "      <td>40.767788</td>\n",
       "      <td>2009-01-01 17:27:00</td>\n",
       "      <td>NaN</td>\n",
       "      <td>-73.776425</td>\n",
       "      <td>40.645150</td>\n",
       "      <td>2009-01-01 17:55:00</td>\n",
       "      <td>0.0</td>\n",
       "    </tr>\n",
       "    <tr>\n",
       "      <th>4</th>\n",
       "      <td>NaN</td>\n",
       "      <td>-73.992892</td>\n",
       "      <td>40.730655</td>\n",
       "      <td>2009-01-01 18:26:00</td>\n",
       "      <td>NaN</td>\n",
       "      <td>-73.776383</td>\n",
       "      <td>40.645273</td>\n",
       "      <td>2009-01-01 18:53:00</td>\n",
       "      <td>0.0</td>\n",
       "    </tr>\n",
       "  </tbody>\n",
       "</table>\n",
       "</div>"
      ],
      "text/plain": [
       "   pickup_location_id  pickup_lon  pickup_lat      pickup_datetime  \\\n",
       "0                 NaN  -73.967987   40.752267  2009-01-01 14:50:00   \n",
       "1                 NaN  -73.992083   40.749610  2009-01-01 15:44:00   \n",
       "2                 NaN  -73.984115   40.759037  2009-01-01 12:37:00   \n",
       "3                 NaN  -73.953513   40.767788  2009-01-01 17:27:00   \n",
       "4                 NaN  -73.992892   40.730655  2009-01-01 18:26:00   \n",
       "\n",
       "   dropoff_location_id  dropoff_lon  dropoff_lat     dropoff_datetime  \\\n",
       "0                  NaN   -73.782963    40.643958  2009-01-01 15:18:00   \n",
       "1                  NaN   -73.789692    40.647035  2009-01-01 16:13:00   \n",
       "2                  NaN   -73.790738    40.645358  2009-01-01 13:15:00   \n",
       "3                  NaN   -73.776425    40.645150  2009-01-01 17:55:00   \n",
       "4                  NaN   -73.776383    40.645273  2009-01-01 18:53:00   \n",
       "\n",
       "   precipitation  \n",
       "0            0.0  \n",
       "1            0.0  \n",
       "2            0.0  \n",
       "3            0.0  \n",
       "4            0.0  "
      ]
     },
     "execution_count": 3,
     "metadata": {},
     "output_type": "execute_result"
    }
   ],
   "source": [
    "rides = pd.read_csv(str(Path().home() / 'data/nyc-taxi/results/filtered_rides_with_prcp.csv'))\n",
    "\n",
    "# remove 7 data points with unknown location ID 105 (no polygons in mapping file available)\n",
    "rides = rides[(~rides['pickup_lat'].isnull()) & (~rides['pickup_lon'].isnull())]\n",
    "rides.shape\n",
    "rides.head()"
   ]
  },
  {
   "cell_type": "code",
   "execution_count": 13,
   "metadata": {
    "ExecuteTime": {
     "end_time": "2018-11-21T19:08:04.554468Z",
     "start_time": "2018-11-21T19:08:04.550901Z"
    }
   },
   "outputs": [],
   "source": [
    "def coord_4326_to_3857(coordinates):\n",
    "    \"\"\"Transforms lon/lat coordinates to Web Mercator projection\n",
    "    \n",
    "    :param coordinates: lon/lat coordinates that are to be transformed to Web Mercator projection\n",
    "    \"\"\"\n",
    "    lon = coordinates[0]\n",
    "    lat = coordinates[1]\n",
    "    \n",
    "    return pd.Series(transform(Proj(init='epsg:4326'), Proj(init='epsg:3857'), lon, lat))"
   ]
  },
  {
   "cell_type": "code",
   "execution_count": 15,
   "metadata": {
    "ExecuteTime": {
     "end_time": "2018-11-21T19:39:40.120021Z",
     "start_time": "2018-11-21T19:09:11.109639Z"
    }
   },
   "outputs": [],
   "source": [
    "rides['pickup_x'] = 0\n",
    "rides['pickup_y'] = 0\n",
    "rides['dropoff_x'] = 0\n",
    "rides['dropoff_y'] = 0\n",
    "\n",
    "rides[['pickup_x', 'pickup_y']] = rides[['pickup_lon', 'pickup_lat']].apply(coord_4326_to_3857, axis=1)\n",
    "rides[['dropoff_x', 'dropoff_y']] = rides[['dropoff_lon', 'dropoff_lat']].apply(coord_4326_to_3857, axis=1)"
   ]
  },
  {
   "cell_type": "code",
   "execution_count": 17,
   "metadata": {
    "ExecuteTime": {
     "end_time": "2018-11-21T20:48:25.268591Z",
     "start_time": "2018-11-21T20:48:25.265855Z"
    }
   },
   "outputs": [
    {
     "data": {
      "text/plain": [
       "(9747514, 13)"
      ]
     },
     "execution_count": 17,
     "metadata": {},
     "output_type": "execute_result"
    }
   ],
   "source": [
    "rides.shape"
   ]
  },
  {
   "cell_type": "code",
   "execution_count": 18,
   "metadata": {
    "ExecuteTime": {
     "end_time": "2018-11-21T20:48:30.735328Z",
     "start_time": "2018-11-21T20:48:30.722756Z"
    }
   },
   "outputs": [
    {
     "data": {
      "text/html": [
       "<div>\n",
       "<style scoped>\n",
       "    .dataframe tbody tr th:only-of-type {\n",
       "        vertical-align: middle;\n",
       "    }\n",
       "\n",
       "    .dataframe tbody tr th {\n",
       "        vertical-align: top;\n",
       "    }\n",
       "\n",
       "    .dataframe thead th {\n",
       "        text-align: right;\n",
       "    }\n",
       "</style>\n",
       "<table border=\"1\" class=\"dataframe\">\n",
       "  <thead>\n",
       "    <tr style=\"text-align: right;\">\n",
       "      <th></th>\n",
       "      <th>pickup_location_id</th>\n",
       "      <th>pickup_lon</th>\n",
       "      <th>pickup_lat</th>\n",
       "      <th>pickup_datetime</th>\n",
       "      <th>dropoff_location_id</th>\n",
       "      <th>dropoff_lon</th>\n",
       "      <th>dropoff_lat</th>\n",
       "      <th>dropoff_datetime</th>\n",
       "      <th>precipitation</th>\n",
       "      <th>pickup_x</th>\n",
       "      <th>pickup_y</th>\n",
       "      <th>dropoff_x</th>\n",
       "      <th>dropoff_y</th>\n",
       "    </tr>\n",
       "  </thead>\n",
       "  <tbody>\n",
       "    <tr>\n",
       "      <th>0</th>\n",
       "      <td>NaN</td>\n",
       "      <td>-73.967987</td>\n",
       "      <td>40.752267</td>\n",
       "      <td>2009-01-01 14:50:00</td>\n",
       "      <td>NaN</td>\n",
       "      <td>-73.782963</td>\n",
       "      <td>40.643958</td>\n",
       "      <td>2009-01-01 15:18:00</td>\n",
       "      <td>0.0</td>\n",
       "      <td>-8.234079e+06</td>\n",
       "      <td>4.975869e+06</td>\n",
       "      <td>-8.213482e+06</td>\n",
       "      <td>4.959967e+06</td>\n",
       "    </tr>\n",
       "    <tr>\n",
       "      <th>1</th>\n",
       "      <td>NaN</td>\n",
       "      <td>-73.992083</td>\n",
       "      <td>40.749610</td>\n",
       "      <td>2009-01-01 15:44:00</td>\n",
       "      <td>NaN</td>\n",
       "      <td>-73.789692</td>\n",
       "      <td>40.647035</td>\n",
       "      <td>2009-01-01 16:13:00</td>\n",
       "      <td>0.0</td>\n",
       "      <td>-8.236761e+06</td>\n",
       "      <td>4.975479e+06</td>\n",
       "      <td>-8.214231e+06</td>\n",
       "      <td>4.960418e+06</td>\n",
       "    </tr>\n",
       "    <tr>\n",
       "      <th>2</th>\n",
       "      <td>NaN</td>\n",
       "      <td>-73.984115</td>\n",
       "      <td>40.759037</td>\n",
       "      <td>2009-01-01 12:37:00</td>\n",
       "      <td>NaN</td>\n",
       "      <td>-73.790738</td>\n",
       "      <td>40.645358</td>\n",
       "      <td>2009-01-01 13:15:00</td>\n",
       "      <td>0.0</td>\n",
       "      <td>-8.235874e+06</td>\n",
       "      <td>4.976864e+06</td>\n",
       "      <td>-8.214347e+06</td>\n",
       "      <td>4.960172e+06</td>\n",
       "    </tr>\n",
       "    <tr>\n",
       "      <th>3</th>\n",
       "      <td>NaN</td>\n",
       "      <td>-73.953513</td>\n",
       "      <td>40.767788</td>\n",
       "      <td>2009-01-01 17:27:00</td>\n",
       "      <td>NaN</td>\n",
       "      <td>-73.776425</td>\n",
       "      <td>40.645150</td>\n",
       "      <td>2009-01-01 17:55:00</td>\n",
       "      <td>0.0</td>\n",
       "      <td>-8.232467e+06</td>\n",
       "      <td>4.978151e+06</td>\n",
       "      <td>-8.212754e+06</td>\n",
       "      <td>4.960141e+06</td>\n",
       "    </tr>\n",
       "    <tr>\n",
       "      <th>4</th>\n",
       "      <td>NaN</td>\n",
       "      <td>-73.992892</td>\n",
       "      <td>40.730655</td>\n",
       "      <td>2009-01-01 18:26:00</td>\n",
       "      <td>NaN</td>\n",
       "      <td>-73.776383</td>\n",
       "      <td>40.645273</td>\n",
       "      <td>2009-01-01 18:53:00</td>\n",
       "      <td>0.0</td>\n",
       "      <td>-8.236851e+06</td>\n",
       "      <td>4.972694e+06</td>\n",
       "      <td>-8.212749e+06</td>\n",
       "      <td>4.960159e+06</td>\n",
       "    </tr>\n",
       "  </tbody>\n",
       "</table>\n",
       "</div>"
      ],
      "text/plain": [
       "   pickup_location_id  pickup_lon  pickup_lat      pickup_datetime  \\\n",
       "0                 NaN  -73.967987   40.752267  2009-01-01 14:50:00   \n",
       "1                 NaN  -73.992083   40.749610  2009-01-01 15:44:00   \n",
       "2                 NaN  -73.984115   40.759037  2009-01-01 12:37:00   \n",
       "3                 NaN  -73.953513   40.767788  2009-01-01 17:27:00   \n",
       "4                 NaN  -73.992892   40.730655  2009-01-01 18:26:00   \n",
       "\n",
       "   dropoff_location_id  dropoff_lon  dropoff_lat     dropoff_datetime  \\\n",
       "0                  NaN   -73.782963    40.643958  2009-01-01 15:18:00   \n",
       "1                  NaN   -73.789692    40.647035  2009-01-01 16:13:00   \n",
       "2                  NaN   -73.790738    40.645358  2009-01-01 13:15:00   \n",
       "3                  NaN   -73.776425    40.645150  2009-01-01 17:55:00   \n",
       "4                  NaN   -73.776383    40.645273  2009-01-01 18:53:00   \n",
       "\n",
       "   precipitation      pickup_x      pickup_y     dropoff_x     dropoff_y  \n",
       "0            0.0 -8.234079e+06  4.975869e+06 -8.213482e+06  4.959967e+06  \n",
       "1            0.0 -8.236761e+06  4.975479e+06 -8.214231e+06  4.960418e+06  \n",
       "2            0.0 -8.235874e+06  4.976864e+06 -8.214347e+06  4.960172e+06  \n",
       "3            0.0 -8.232467e+06  4.978151e+06 -8.212754e+06  4.960141e+06  \n",
       "4            0.0 -8.236851e+06  4.972694e+06 -8.212749e+06  4.960159e+06  "
      ]
     },
     "execution_count": 18,
     "metadata": {},
     "output_type": "execute_result"
    }
   ],
   "source": [
    "rides.head()"
   ]
  },
  {
   "cell_type": "code",
   "execution_count": 19,
   "metadata": {
    "ExecuteTime": {
     "end_time": "2018-11-21T20:50:56.300568Z",
     "start_time": "2018-11-21T20:49:00.406548Z"
    }
   },
   "outputs": [],
   "source": [
    "rides.to_csv(str(Path().home() / 'data/nyc-taxi/results/filtered_rides_with_prcp_mercator_proj.csv'), index=False)"
   ]
  },
  {
   "cell_type": "markdown",
   "metadata": {},
   "source": [
    "# Visualisation"
   ]
  },
  {
   "cell_type": "code",
   "execution_count": 2,
   "metadata": {
    "ExecuteTime": {
     "end_time": "2018-11-22T05:04:14.394730Z",
     "start_time": "2018-11-22T05:03:52.022372Z"
    }
   },
   "outputs": [],
   "source": [
    "rides = pd.read_csv(str(Path().home() / 'data/nyc-taxi/results/filtered_rides_with_prcp_mercator_proj.csv')"
   ]
  },
  {
   "cell_type": "code",
   "execution_count": 3,
   "metadata": {
    "ExecuteTime": {
     "end_time": "2018-11-22T05:04:14.418648Z",
     "start_time": "2018-11-22T05:04:14.396352Z"
    }
   },
   "outputs": [
    {
     "data": {
      "text/plain": [
       "(9747514, 13)"
      ]
     },
     "execution_count": 3,
     "metadata": {},
     "output_type": "execute_result"
    },
    {
     "data": {
      "text/html": [
       "<div>\n",
       "<style scoped>\n",
       "    .dataframe tbody tr th:only-of-type {\n",
       "        vertical-align: middle;\n",
       "    }\n",
       "\n",
       "    .dataframe tbody tr th {\n",
       "        vertical-align: top;\n",
       "    }\n",
       "\n",
       "    .dataframe thead th {\n",
       "        text-align: right;\n",
       "    }\n",
       "</style>\n",
       "<table border=\"1\" class=\"dataframe\">\n",
       "  <thead>\n",
       "    <tr style=\"text-align: right;\">\n",
       "      <th></th>\n",
       "      <th>pickup_location_id</th>\n",
       "      <th>pickup_lon</th>\n",
       "      <th>pickup_lat</th>\n",
       "      <th>pickup_datetime</th>\n",
       "      <th>dropoff_location_id</th>\n",
       "      <th>dropoff_lon</th>\n",
       "      <th>dropoff_lat</th>\n",
       "      <th>dropoff_datetime</th>\n",
       "      <th>precipitation</th>\n",
       "      <th>pickup_x</th>\n",
       "      <th>pickup_y</th>\n",
       "      <th>dropoff_x</th>\n",
       "      <th>dropoff_y</th>\n",
       "    </tr>\n",
       "  </thead>\n",
       "  <tbody>\n",
       "    <tr>\n",
       "      <th>0</th>\n",
       "      <td>NaN</td>\n",
       "      <td>-73.967987</td>\n",
       "      <td>40.752267</td>\n",
       "      <td>2009-01-01 14:50:00</td>\n",
       "      <td>NaN</td>\n",
       "      <td>-73.782963</td>\n",
       "      <td>40.643958</td>\n",
       "      <td>2009-01-01 15:18:00</td>\n",
       "      <td>0.0</td>\n",
       "      <td>-8.234079e+06</td>\n",
       "      <td>4.975869e+06</td>\n",
       "      <td>-8.213482e+06</td>\n",
       "      <td>4.959967e+06</td>\n",
       "    </tr>\n",
       "    <tr>\n",
       "      <th>1</th>\n",
       "      <td>NaN</td>\n",
       "      <td>-73.992083</td>\n",
       "      <td>40.749610</td>\n",
       "      <td>2009-01-01 15:44:00</td>\n",
       "      <td>NaN</td>\n",
       "      <td>-73.789692</td>\n",
       "      <td>40.647035</td>\n",
       "      <td>2009-01-01 16:13:00</td>\n",
       "      <td>0.0</td>\n",
       "      <td>-8.236761e+06</td>\n",
       "      <td>4.975479e+06</td>\n",
       "      <td>-8.214231e+06</td>\n",
       "      <td>4.960418e+06</td>\n",
       "    </tr>\n",
       "    <tr>\n",
       "      <th>2</th>\n",
       "      <td>NaN</td>\n",
       "      <td>-73.984115</td>\n",
       "      <td>40.759037</td>\n",
       "      <td>2009-01-01 12:37:00</td>\n",
       "      <td>NaN</td>\n",
       "      <td>-73.790738</td>\n",
       "      <td>40.645358</td>\n",
       "      <td>2009-01-01 13:15:00</td>\n",
       "      <td>0.0</td>\n",
       "      <td>-8.235874e+06</td>\n",
       "      <td>4.976864e+06</td>\n",
       "      <td>-8.214347e+06</td>\n",
       "      <td>4.960172e+06</td>\n",
       "    </tr>\n",
       "    <tr>\n",
       "      <th>3</th>\n",
       "      <td>NaN</td>\n",
       "      <td>-73.953513</td>\n",
       "      <td>40.767788</td>\n",
       "      <td>2009-01-01 17:27:00</td>\n",
       "      <td>NaN</td>\n",
       "      <td>-73.776425</td>\n",
       "      <td>40.645150</td>\n",
       "      <td>2009-01-01 17:55:00</td>\n",
       "      <td>0.0</td>\n",
       "      <td>-8.232467e+06</td>\n",
       "      <td>4.978151e+06</td>\n",
       "      <td>-8.212754e+06</td>\n",
       "      <td>4.960141e+06</td>\n",
       "    </tr>\n",
       "    <tr>\n",
       "      <th>4</th>\n",
       "      <td>NaN</td>\n",
       "      <td>-73.992892</td>\n",
       "      <td>40.730655</td>\n",
       "      <td>2009-01-01 18:26:00</td>\n",
       "      <td>NaN</td>\n",
       "      <td>-73.776383</td>\n",
       "      <td>40.645273</td>\n",
       "      <td>2009-01-01 18:53:00</td>\n",
       "      <td>0.0</td>\n",
       "      <td>-8.236851e+06</td>\n",
       "      <td>4.972694e+06</td>\n",
       "      <td>-8.212749e+06</td>\n",
       "      <td>4.960159e+06</td>\n",
       "    </tr>\n",
       "  </tbody>\n",
       "</table>\n",
       "</div>"
      ],
      "text/plain": [
       "   pickup_location_id  pickup_lon  pickup_lat      pickup_datetime  \\\n",
       "0                 NaN  -73.967987   40.752267  2009-01-01 14:50:00   \n",
       "1                 NaN  -73.992083   40.749610  2009-01-01 15:44:00   \n",
       "2                 NaN  -73.984115   40.759037  2009-01-01 12:37:00   \n",
       "3                 NaN  -73.953513   40.767788  2009-01-01 17:27:00   \n",
       "4                 NaN  -73.992892   40.730655  2009-01-01 18:26:00   \n",
       "\n",
       "   dropoff_location_id  dropoff_lon  dropoff_lat     dropoff_datetime  \\\n",
       "0                  NaN   -73.782963    40.643958  2009-01-01 15:18:00   \n",
       "1                  NaN   -73.789692    40.647035  2009-01-01 16:13:00   \n",
       "2                  NaN   -73.790738    40.645358  2009-01-01 13:15:00   \n",
       "3                  NaN   -73.776425    40.645150  2009-01-01 17:55:00   \n",
       "4                  NaN   -73.776383    40.645273  2009-01-01 18:53:00   \n",
       "\n",
       "   precipitation      pickup_x      pickup_y     dropoff_x     dropoff_y  \n",
       "0            0.0 -8.234079e+06  4.975869e+06 -8.213482e+06  4.959967e+06  \n",
       "1            0.0 -8.236761e+06  4.975479e+06 -8.214231e+06  4.960418e+06  \n",
       "2            0.0 -8.235874e+06  4.976864e+06 -8.214347e+06  4.960172e+06  \n",
       "3            0.0 -8.232467e+06  4.978151e+06 -8.212754e+06  4.960141e+06  \n",
       "4            0.0 -8.236851e+06  4.972694e+06 -8.212749e+06  4.960159e+06  "
      ]
     },
     "execution_count": 3,
     "metadata": {},
     "output_type": "execute_result"
    }
   ],
   "source": [
    "rides.shape\n",
    "rides.head()"
   ]
  },
  {
   "cell_type": "code",
   "execution_count": 4,
   "metadata": {
    "ExecuteTime": {
     "end_time": "2018-11-22T05:04:14.868658Z",
     "start_time": "2018-11-22T05:04:14.420073Z"
    }
   },
   "outputs": [
    {
     "data": {
      "text/plain": [
       "count    9.747514e+06\n",
       "mean     3.115587e+00\n",
       "std      9.041408e+00\n",
       "min      0.000000e+00\n",
       "10%      0.000000e+00\n",
       "20%      0.000000e+00\n",
       "50%      0.000000e+00\n",
       "80%      2.300000e+00\n",
       "90%      9.900000e+00\n",
       "95%      1.880000e+01\n",
       "99%      4.470000e+01\n",
       "99.9%    8.180000e+01\n",
       "max      1.476000e+02\n",
       "Name: precipitation, dtype: float64"
      ]
     },
     "execution_count": 4,
     "metadata": {},
     "output_type": "execute_result"
    }
   ],
   "source": [
    "rides['precipitation'].describe(percentiles=[.1, .2, .5, .8, .9, .95, .99, .999])"
   ]
  },
  {
   "cell_type": "code",
   "execution_count": 67,
   "metadata": {
    "ExecuteTime": {
     "end_time": "2018-11-22T06:42:48.631513Z",
     "start_time": "2018-11-22T06:42:48.628423Z"
    }
   },
   "outputs": [],
   "source": [
    "def quantize_precipitation(precipitation):\n",
    "    if precipitation == 0:\n",
    "        return '= 0 mm'\n",
    "    elif precipitation < 2:\n",
    "        return '< 2 mm'\n",
    "    elif precipitation < 10:\n",
    "        return '< 10 mm'\n",
    "    elif precipitation < 50:\n",
    "        return '< 50 mm'\n",
    "    else:\n",
    "        return '>= 50 mm'"
   ]
  },
  {
   "cell_type": "code",
   "execution_count": 68,
   "metadata": {
    "ExecuteTime": {
     "end_time": "2018-11-22T06:42:51.057930Z",
     "start_time": "2018-11-22T06:42:49.323426Z"
    }
   },
   "outputs": [],
   "source": [
    "rides['precipitation_quantised'] = rides['precipitation'].apply(quantize_precipitation)"
   ]
  },
  {
   "cell_type": "code",
   "execution_count": 7,
   "metadata": {
    "ExecuteTime": {
     "end_time": "2018-11-22T05:05:47.239199Z",
     "start_time": "2018-11-22T05:05:44.174816Z"
    }
   },
   "outputs": [
    {
     "data": {},
     "metadata": {},
     "output_type": "display_data"
    },
    {
     "data": {
      "text/html": [
       "\n",
       "<link rel=\"stylesheet\" href=\"https://code.jquery.com/ui/1.10.4/themes/smoothness/jquery-ui.css\">\n",
       "<style>div.hololayout {\n",
       "  display: flex;\n",
       "  align-items: center;\n",
       "  margin: 0;\n",
       "}\n",
       "\n",
       "div.holoframe {\n",
       "  width: 75%;\n",
       "}\n",
       "\n",
       "div.holowell {\n",
       "  display: flex;\n",
       "  align-items: center;\n",
       "}\n",
       "\n",
       "form.holoform {\n",
       "  background-color: #fafafa;\n",
       "  border-radius: 5px;\n",
       "  overflow: hidden;\n",
       "  padding-left: 0.8em;\n",
       "  padding-right: 0.8em;\n",
       "  padding-top: 0.4em;\n",
       "  padding-bottom: 0.4em;\n",
       "  box-shadow: inset 0 1px 1px rgba(0, 0, 0, 0.05);\n",
       "  margin-bottom: 20px;\n",
       "  border: 1px solid #e3e3e3;\n",
       "}\n",
       "\n",
       "div.holowidgets {\n",
       "  padding-right: 0;\n",
       "  width: 25%;\n",
       "}\n",
       "\n",
       "div.holoslider {\n",
       "  min-height: 0 !important;\n",
       "  height: 0.8em;\n",
       "  width: 100%;\n",
       "}\n",
       "\n",
       "div.holoformgroup {\n",
       "  padding-top: 0.5em;\n",
       "  margin-bottom: 0.5em;\n",
       "}\n",
       "\n",
       "div.hologroup {\n",
       "  padding-left: 0;\n",
       "  padding-right: 0.8em;\n",
       "  width: 100%;\n",
       "}\n",
       "\n",
       ".holoselect {\n",
       "  width: 92%;\n",
       "  margin-left: 0;\n",
       "  margin-right: 0;\n",
       "}\n",
       "\n",
       ".holotext {\n",
       "  padding-left:  0.5em;\n",
       "  padding-right: 0;\n",
       "  width: 100%;\n",
       "}\n",
       "\n",
       ".holowidgets .ui-resizable-se {\n",
       "  visibility: hidden\n",
       "}\n",
       "\n",
       ".holoframe > .ui-resizable-se {\n",
       "  visibility: hidden\n",
       "}\n",
       "\n",
       ".holowidgets .ui-resizable-s {\n",
       "  visibility: hidden\n",
       "}\n",
       "\n",
       "\n",
       "/* CSS rules for noUISlider based slider used by JupyterLab extension  */\n",
       "\n",
       ".noUi-handle {\n",
       "  width: 20px !important;\n",
       "  height: 20px !important;\n",
       "  left: -5px !important;\n",
       "  top: -5px !important;\n",
       "}\n",
       "\n",
       ".noUi-handle:before, .noUi-handle:after {\n",
       "  visibility: hidden;\n",
       "  height: 0px;\n",
       "}\n",
       "\n",
       ".noUi-target {\n",
       "  margin-left: 0.5em;\n",
       "  margin-right: 0.5em;\n",
       "}\n",
       "\n",
       "div.bk-hbox {\n",
       "    display: flex;\n",
       "    justify-content: center;\n",
       "}\n",
       "\n",
       "div.bk-hbox div.bk-plot {\n",
       "    padding: 8px;\n",
       "}\n",
       "\n",
       "div.bk-hbox div.bk-data-table {\n",
       "    padding: 20px;\n",
       "}\n",
       "</style>\n",
       "\n",
       "\n",
       "<div class=\"logo-block\">\n",
       "<img src='data:image/png;base64,iVBORw0KGgoAAAANSUhEUgAAAEAAAABACAYAAACqaXHeAAAABHNCSVQICAgIfAhkiAAAAAlwSFlz\n",
       "AAAB+wAAAfsBxc2miwAAABl0RVh0U29mdHdhcmUAd3d3Lmlua3NjYXBlLm9yZ5vuPBoAAA6zSURB\n",
       "VHic7ZtpeFRVmsf/5966taWqUlUJ2UioBBJiIBAwCZtog9IOgjqACsogKtqirT2ttt069nQ/zDzt\n",
       "tI4+CrJIREFaFgWhBXpUNhHZQoKBkIUASchWla1S+3ar7r1nPkDaCAnZKoQP/D7mnPOe9/xy76n3\n",
       "nFSAW9ziFoPFNED2LLK5wcyBDObkb8ZkxuaoSYlI6ZcOKq1eWFdedqNzGHQBk9RMEwFAASkk0Xw3\n",
       "ETacDNi2vtvc7L0ROdw0AjoSotQVkKSvHQz/wRO1lScGModBFbDMaNRN1A4tUBCS3lk7BWhQkgpD\n",
       "lG4852/+7DWr1R3uHAZVQDsbh6ZPN7CyxUrCzJMRouusj0ipRwD2uKm0Zn5d2dFwzX1TCGhnmdGo\n",
       "G62Nna+isiUqhkzuKrkQaJlPEv5mFl2fvGg2t/VnzkEV8F5ioioOEWkLG86fvbpthynjdhXYZziQ\n",
       "x1hC9J2NFyi8vCTt91Fh04KGip0AaG9zuCk2wQCVyoNU3Hjezee9bq92duzzTmxsRJoy+jEZZZYo\n",
       "GTKJ6SJngdJqAfRzpze0+jHreUtPc7gpBLQnIYK6BYp/uGhw9YK688eu7v95ysgshcg9qSLMo3JC\n",
       "4jqLKQFBgdKDPoQ+Pltb8dUyQLpeDjeVgI6EgLIQFT5tEl3rn2losHVsexbZ3EyT9wE1uGdkIPcy\n",
       "BGxn8QUq1QrA5nqW5i2tLqvrrM9NK6AdkVIvL9E9bZL/oyfMVd/jqvc8LylzRBKDJSzIExwhQzuL\n",
       "QYGQj4rHfFTc8mUdu3E7yoLtbTe9gI4EqVgVkug2i5+uXGo919ixbRog+3fTbQ8qJe4ZOYNfMoTI\n",
       "OoshUNosgO60AisX15aeI2PSIp5KiFLI9ubb1vV3Qb2ltwLakUCDAkWX7/nHKRmmGIl9VgYsUhJm\n",
       "2NXjKYADtM1ygne9QQDIXlk49FBstMKx66D1v4+XuQr7vqTe0VcBHQlRWiOCbmmSYe2SqtL6q5rJ\n",
       "zsTb7lKx3FKOYC4DoqyS/B5bvLPxvD9Qtf6saxYLQGJErmDOdOMr/zo96km1nElr8bmPOBwI9COv\n",
       "HnFPRIwmkSOv9kcAS4heRsidOkpeWBgZM+UBrTFAXNYL5Vf2ii9c1trNzpYdaoVil3WIc+wdk+gQ\n",
       "noie3ecCcxt9ITcLAPWt/laGEO/9U6PmzZkenTtsSMQ8uYywJVW+grCstAvCIaAdArAsIWkRDDs/\n",
       "KzLm2YcjY1Lv0UdW73HabE9n6V66cxSzfEmuJssTpKGVp+0vHq73FwL46eOjpMpbRAnNmJFrGJNu\n",
       "Ukf9Yrz+3rghiumCKNXXWPhLYcjxGsIpoCMsIRoFITkW8AuyM8jC1+/QLx4bozCEJIq38+1rtpR6\n",
       "V/yzb8eBlRb3fo5l783N0CWolAzJHaVNzkrTzlEp2bQ2q3TC5gn6wpnoQAmwSiGh2GitnTmVMc5O\n",
       "UyfKWUKCIsU7+fZDKwqdT6DDpvkzAX4/+AMFjk0tDp5GRXLpQ2MUmhgDp5gxQT8+Y7hyPsMi8uxF\n",
       "71H0oebujHALECjFKaW9Lm68n18wXp2kVzIcABytD5iXFzg+WVXkegpAsOOYziqo0OkK76GyquC3\n",
       "ltZAzMhhqlSNmmWTE5T6e3IN05ITFLM4GdN0vtZ3ob8Jh1NAKXFbm5PtLU/eqTSlGjkNAJjdgn/N\n",
       "aedXa0tdi7+t9G0FIF49rtMSEgAs1kDLkTPO7ebm4IUWeyh1bKomXqlgMG6kJmHcSM0clYLJ8XtR\n",
       "1GTnbV3F6I5wCGikAb402npp1h1s7LQUZZSMIfALFOuL3UUrfnS8+rez7v9qcold5tilgHbO1fjK\n",
       "9ubb17u9oshxzMiUBKXWqJNxd+fqb0tLVs4lILFnK71H0Ind7uiPgACVcFJlrb0tV6DzxqqTIhUM\n",
       "CwDf1/rrVhTa33/3pGPxJYdQ2l2cbgVcQSosdx8uqnDtbGjh9SlDVSMNWhlnilfqZk42Th2ZpLpf\n",
       "xrHec5e815zrr0dfBZSwzkZfqsv+1FS1KUknUwPARVvItfKUY+cn57yP7qv07UE3p8B2uhUwLk09\n",
       "e0SCOrK+hbdYHYLjRIl71wWzv9jpEoeOHhGRrJAzyEyNiJuUqX0g2sBN5kGK6y2Blp5M3lsB9Qh4\n",
       "y2Ja6x6+i0ucmKgwMATwhSjdUu49tKrQ/pvN5d53ml2CGwCmJipmKjgmyuaXzNeL2a0AkQ01Th5j\n",
       "2DktO3Jyk8f9vcOBQHV94OK+fPumJmvQHxJoWkaKWq9Vs+yUsbq0zGT1I4RgeH2b5wef7+c7bl8F\n",
       "eKgoHVVZa8ZPEORzR6sT1BzDUAD/d9F78e2Tzv99v8D+fLVTqAKAsbGamKey1Mt9Ann4eH3gTXTz\n",
       "idWtAJ8PQWOk7NzSeQn/OTHDuEikVF1R4z8BQCy+6D1aWRfY0tTGG2OM8rRoPaeIj5ZHzJxszElN\n",
       "VM8K8JS5WOfv8mzRnQAKoEhmt8gyPM4lU9SmBK1MCQBnW4KONT86v1hZ1PbwSXPw4JWussVjtH9Y\n",
       "NCoiL9UoH/6PSu8jFrfY2t36erQHXLIEakMi1SydmzB31h3GGXFDFNPaK8Rme9B79Ixrd0WN+1ij\n",
       "NRQ/doRmuFLBkHSTOm5GruG+pFjFdAmorG4IXH1Qua6ASniclfFtDYt+oUjKipPrCQB7QBQ2lrgP\n",
       "fFzm+9XWUtcqJ3/5vDLDpJ79XHZk3u8nGZ42qlj1+ydtbxysCezrydp6ugmipNJ7WBPB5tydY0jP\n",
       "HaVNzs3QzeE4ZpTbI+ZbnSFPbVOw9vsfnVvqWnirPyCNGD08IlqtYkh2hjZ5dErEQzoNm+6ykyOt\n",
       "Lt5/PQEuSRRKo22VkydK+vvS1XEKlhCJAnsqvcVvH7f/ZU2R67eXbMEGAMiIV5oWZWiWvz5Fv2xG\n",
       "sjqNJQRvn3Rs2lji/lNP19VjAQDgD7FHhujZB9OGqYxRkZxixgRDVlqS6uEOFaJUVu0rPFzctrnF\n",
       "JqijImVp8dEKVWyUXDk92zAuMZ6bFwpBU1HrOw6AdhQgUooChb0+ItMbWJitSo5Ws3IAOGEOtL53\n",
       "0vHZih9sC4vtofZ7Qu6523V/fmGcds1TY3V36pUsBwAbSlxnVh2xLfAD/IAIMDf7XYIkNmXfpp2l\n",
       "18rkAJAy9HKFaIr/qULkeQQKy9zf1JgDB2uaeFNGijo5QsUyacNUUTOnGO42xSnv4oOwpDi1zYkc\n",
       "efUc3I5Gk6PhyTuVKaOGyLUAYPGIoY9Pu/atL/L92+4q9wbflRJ2Trpm/jPjdBtfnqB/dIThcl8A\n",
       "KG7hbRuKnb8qsQsVvVlTrwQAQMUlf3kwJI24Z4JhPMtcfng5GcH49GsrxJpGvvHIaeem2ma+KSjQ\n",
       "lIwUdYyCY8j4dE1KzijNnIP2llF2wcXNnsoapw9XxsgYAl6k+KzUXbi2yP3KR2ecf6z3BFsBICdW\n",
       "nvnIaG3eHybqX7vbpEqUMT+9OL4Qpe8VON7dXuFd39v19FoAABRVePbGGuXTszO0P7tu6lghUonE\n",
       "llRdrhArLvmKdh9u29jcFiRRkfLUxBiFNiqSU9icoZQHo5mYBI1MBgBH6wMNb+U7Pnw337H4gi1Y\n",
       "ciWs+uks3Z9fztUvfzxTm9Ne8XXkvQLHNytOOZeiD4e0PgkAIAYCYknKUNUDSXEKzdWNpnil7r4p\n",
       "xqkjTarZMtk/K8TQ6Qve78qqvXurGwIJqcOUKfUWHsm8KGvxSP68YudXq4pcj39X49uOK2X142O0\n",
       "Tz5/u/7TVybqH0rSya6ZBwD21/gubbrgWdDgEOx9WUhfBaC2ibcEBYm7a7x+ukrBMNcEZggyR0TE\n",
       "T8zUPjikQ4VosQZbTpS4vqizBKvqmvjsqnpfzaZyx9JPiz1/bfGKdgD45XB1zoIMzYbfTdS/NClB\n",
       "Gct0USiY3YL/g0LHy/uq/Ef6uo5+n0R/vyhp17Klpge763f8rMu6YU/zrn2nml+2WtH+Z+5IAAFc\n",
       "2bUTdTDOSNa9+cQY7YLsOIXhevEkCvzph7a8laecz/Un/z4/Ae04XeL3UQb57IwU9ZDr9UuKVajv\n",
       "nxp1+1UVIo/LjztZkKH59fO3G/JemqCfmaCRqbqbd90ZZ8FfjtkfAyD0J/9+C2h1hDwsSxvGjNDc\n",
       "b4zk5NfrSwiQblLHzZhg+Jf4aPlUwpDqkQqa9nimbt1/TDH8OitGMaQnj+RJS6B1fbF7SY1TqO5v\n",
       "/v0WAADl1f7zokgS7s7VT2DZ7pegUjBM7mjtiDZbcN4j0YrHH0rXpCtY0qPX0cVL0rv5jv/ZXend\n",
       "0u/EESYBAFBU4T4Qa5TflZOhTe7pmKpaP8kCVUVw1+yhXfJWvn1P3hnXi33JsTN6PnP3hHZ8Z3/h\n",
       "aLHzmkNPuPj7Bc/F/Q38CwjTpSwQXgE4Vmwry9tpfq/ZFgqFMy4AVDtCvi8rvMvOmv0N4YwbVgEA\n",
       "sPM72/KVnzfspmH7HQGCRLG2yL1+z8XwvPcdCbsAANh+xPzstgMtxeGKt+6MK3/tacfvwhWvIwMi\n",
       "oKEBtm0H7W+UVfkc/Y1V0BhoPlDr/w1w/eu1vjIgAgDg22OtX6/eYfnEz/focrZTHAFR+PSs56/7\n",
       "q32nwpjazxgwAQCwcU/T62t3WL7r6/jVRa6/byp1rei+Z98ZUAEAhEPHPc8fKnTU9nbgtnOe8h0l\n",
       "9hcGIqmODLQAHCy2Xti6v/XNRivf43f4fFvIteu854+VHnR7q9tfBlwAAGz+pnndB9vM26UebAe8\n",
       "SLHujPOTPVW+rwY+sxskAAC2HrA8t2Vvc7ffP1r9o+vwR2dcr92InIAbKKC1FZ5tB1tf+/G8p8sv\n",
       "N/9Q5zd/XR34LYCwV5JdccMEAMDBk45DH243r/X4xGvqxFa/GNpS7n6rwOwNWwHVE26oAADYurf1\n",
       "zx/utOzt+DMKYM0p17YtZZ5VNzqfsB2HewG1WXE8PoZ7gOclbTIvynZf9JV+fqZtfgs/8F/Nu5rB\n",
       "EIBmJ+8QRMmpU7EzGRsf2FzuePqYRbzh/zE26EwdrT10f6r6o8HOYzCJB9Dpff8tbnGLG8L/A/WE\n",
       "roTBs2RqAAAAAElFTkSuQmCC'\n",
       "     style='height:25px; border-radius:12px; display: inline-block; float: left; vertical-align: middle'></img>\n",
       "\n",
       "\n",
       "  <img src='data:image/png;base64,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'\n",
       "       style='height:15px; border-radius:12px; display: inline-block; float: left'></img>\n",
       "  \n",
       "\n",
       "\n",
       "\n",
       "\n",
       "</div>\n"
      ]
     },
     "metadata": {},
     "output_type": "execute_result"
    },
    {
     "data": {},
     "metadata": {},
     "output_type": "display_data"
    }
   ],
   "source": [
    "import param\n",
    "import paramnb\n",
    "\n",
    "from bokeh.models import WMTSTileSource\n",
    "from bokeh.tile_providers import STAMEN_TONER\n",
    "from colorcet import cm\n",
    "import geoviews as gv\n",
    "import holoviews as hv\n",
    "from holoviews.operation.datashader import datashade\n",
    "from holoviews.streams import RangeXY\n",
    "\n",
    "hv.notebook_extension('bokeh')"
   ]
  },
  {
   "cell_type": "code",
   "execution_count": 74,
   "metadata": {
    "ExecuteTime": {
     "end_time": "2018-11-22T06:44:39.160187Z",
     "start_time": "2018-11-22T06:44:37.140905Z"
    },
    "scrolled": false
   },
   "outputs": [
    {
     "data": {
      "text/plain": [
       "VBox(children=(HTML(value='\\n        <style>\\n          .widget-dropdown .dropdown-menu { width: 100% }\\n     …"
      ]
     },
     "metadata": {},
     "output_type": "display_data"
    },
    {
     "data": {
      "text/html": [
       "<div id='71afea77-8ce3-4f31-858e-4101d57f74bf' style='display: table; margin: 0 auto;'>\n",
       "    <div id=\"fig_71afea77-8ce3-4f31-858e-4101d57f74bf\">\n",
       "      \n",
       "\n",
       "\n",
       "\n",
       "\n",
       "\n",
       "  <div class=\"bk-root\" id=\"6572270d-9777-40c4-bd8a-b75157884106\"></div>\n",
       "\n",
       "    </div>\n",
       "    </div>"
      ],
      "text/plain": [
       ":DynamicMap   []\n",
       "   :Overlay\n",
       "      .RGB.I  :RGB   [pickup_x,pickup_y]   (R,G,B,A)\n",
       "      .RGB.II :RGB   [dropoff_x,dropoff_y]   (R,G,B,A)\n",
       "      .WMTS.I :WMTS   [Longitude,Latitude]"
      ]
     },
     "execution_count": 74,
     "metadata": {
      "application/vnd.holoviews_exec.v0+json": {
       "id": "71afea77-8ce3-4f31-858e-4101d57f74bf"
      }
     },
     "output_type": "execute_result"
    }
   ],
   "source": [
    "map_providers = {'OpenMap': WMTSTileSource(url='http://c.tile.openstreetmap.org/{Z}/{X}/{Y}.png'),\n",
    "                 'ESRI': WMTSTileSource(url='https://server.arcgisonline.com/ArcGIS/rest/services/World_Imagery/MapServer/tile/{Z}/{Y}/{X}.jpg'),\n",
    "                 'Wikipedia': WMTSTileSource(url='https://maps.wikimedia.org/osm-intl/{Z}/{X}/{Y}@2x.png'),\n",
    "                 'Stamen Toner': STAMEN_TONER}\n",
    "\n",
    "tiles = gv.WMTS(map_providers['Stamen Toner'])\n",
    "tile_options = dict(width=800, height=800, xaxis=None, yaxis=None, bgcolor='black', show_grid=False)\n",
    "\n",
    "class Options(hv.streams.Stream):\n",
    "    precipitation_levels = ['= 0 mm', '< 2 mm', '< 10 mm', '< 50 mm', '>= 50 mm']\n",
    "    Precipitation = param.ObjectSelector(default='= 0 mm', objects=precipitation_levels)\n",
    "    \n",
    "    def plot(self, x_range=None, y_range=None, **kwargs):\n",
    "        map_tiles = tiles(style=dict(alpha=1.0), plot=tile_options)\n",
    "\n",
    "        filtered_rides = rides[rides['precipitation_quantised'] == self.Precipitation]\n",
    "        \n",
    "        pickups = hv.Points(filtered_rides, kdims=['pickup_x', 'pickup_y'], vdims=[])\n",
    "        dropoffs = hv.Points(filtered_rides, kdims=['dropoff_x', 'dropoff_y'], vdims=[])\n",
    "        \n",
    "        pickups_ds = datashade(pickups, width=800, height=800, x_sampling=1, y_sampling=1, cmap=cm['fire'], \n",
    "                               element_type=gv.Image, dynamic=False, x_range=x_range, y_range=y_range)\n",
    "        \n",
    "        dropoffs_ds = datashade(dropoffs, width=800, height=800, x_sampling=1, y_sampling=1, cmap=cm['fire'], \n",
    "                                element_type=gv.Image, dynamic=False, x_range=x_range, y_range=y_range)\n",
    "                \n",
    "        return pickups_ds * dropoffs_ds * map_tiles\n",
    "\n",
    "selector = Options(name='Taxi Rides from Manhattan to JFK International Airport: Please select level of precipitation.')\n",
    "paramnb.Widgets(selector, callback=selector.update)\n",
    "hv.DynamicMap(selector.plot, streams=[selector, RangeXY()])"
   ]
  },
  {
   "cell_type": "code",
   "execution_count": null,
   "metadata": {},
   "outputs": [],
   "source": []
  }
 ],
 "metadata": {
  "kernelspec": {
   "display_name": "Python 3",
   "language": "python",
   "name": "python3"
  },
  "language_info": {
   "codemirror_mode": {
    "name": "ipython",
    "version": 3
   },
   "file_extension": ".py",
   "mimetype": "text/x-python",
   "name": "python",
   "nbconvert_exporter": "python",
   "pygments_lexer": "ipython3",
   "version": "3.6.6"
  },
  "toc": {
   "base_numbering": 1.0,
   "nav_menu": {},
   "number_sections": true,
   "sideBar": true,
   "skip_h1_title": false,
   "title_cell": "Table of Contents",
   "title_sidebar": "Contents",
   "toc_cell": false,
   "toc_position": {},
   "toc_section_display": true,
   "toc_window_display": true
  }
 },
 "nbformat": 4,
 "nbformat_minor": 2
}
